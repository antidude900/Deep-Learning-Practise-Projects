{
  "nbformat": 4,
  "nbformat_minor": 0,
  "metadata": {
    "colab": {
      "provenance": [],
      "gpuType": "T4",
      "authorship_tag": "ABX9TyMCX6meSP01sl0nXApcL27H",
      "include_colab_link": true
    },
    "kernelspec": {
      "name": "python3",
      "display_name": "Python 3"
    },
    "language_info": {
      "name": "python"
    },
    "accelerator": "GPU"
  },
  "cells": [
    {
      "cell_type": "markdown",
      "metadata": {
        "id": "view-in-github",
        "colab_type": "text"
      },
      "source": [
        "<a href=\"https://colab.research.google.com/github/antidude900/Deep-Learning-Practise-Projects/blob/main/Image_Classification.ipynb\" target=\"_parent\"><img src=\"https://colab.research.google.com/assets/colab-badge.svg\" alt=\"Open In Colab\"/></a>"
      ]
    },
    {
      "cell_type": "markdown",
      "source": [
        "#**Image Classification Program**\n"
      ],
      "metadata": {
        "id": "Y5YMf5NF5SIP"
      }
    },
    {
      "cell_type": "markdown",
      "source": [
        "##**Setting Up the Data**\n"
      ],
      "metadata": {
        "id": "n_1UYxWn654v"
      }
    },
    {
      "cell_type": "code",
      "execution_count": null,
      "metadata": {
        "id": "QpqMKjOPJ0fj"
      },
      "outputs": [],
      "source": [
        "import tensorflow as tf\n",
        "from tensorflow import keras\n",
        "import matplotlib.pyplot as plt\n",
        "import numpy as np"
      ]
    },
    {
      "cell_type": "code",
      "source": [
        "(x_train,y_train),(x_test,y_test) = tf.keras.datasets.cifar10.load_data()"
      ],
      "metadata": {
        "id": "XcRFaBJpK6fS",
        "colab": {
          "base_uri": "https://localhost:8080/"
        },
        "outputId": "578b9286-5ecb-483c-bd31-33065278fe8a"
      },
      "execution_count": null,
      "outputs": [
        {
          "output_type": "stream",
          "name": "stdout",
          "text": [
            "Downloading data from https://www.cs.toronto.edu/~kriz/cifar-10-python.tar.gz\n",
            "170498071/170498071 [==============================] - 4s 0us/step\n"
          ]
        }
      ]
    },
    {
      "cell_type": "code",
      "source": [
        "x_train = x_train/255\n",
        "x_test = x_test/255\n",
        "x_train.shape"
      ],
      "metadata": {
        "id": "NDGOaR_eLeef",
        "colab": {
          "base_uri": "https://localhost:8080/"
        },
        "outputId": "f95edcc2-6992-4c51-a597-4f3a701f7a42"
      },
      "execution_count": null,
      "outputs": [
        {
          "output_type": "execute_result",
          "data": {
            "text/plain": [
              "(50000, 32, 32, 3)"
            ]
          },
          "metadata": {},
          "execution_count": 4
        }
      ]
    },
    {
      "cell_type": "markdown",
      "source": [
        "##**Making the Neural Network**"
      ],
      "metadata": {
        "id": "Iq47_JIo7VNF"
      }
    },
    {
      "cell_type": "code",
      "source": [
        "model = keras.Sequential([\n",
        " keras.layers.Flatten(input_shape=(32,32,3)),\n",
        " keras.\n",
        " keras.layers.Dense(3100,activation  = 'relu'),\n",
        " keras.layers.Dropout(0.75),\n",
        " keras.layers.Dense(1550,activation  = 'relu'),\n",
        " keras.layers.Dropout(0.25),\n",
        " keras.layers.Dense(775,activation  = 'relu'),\n",
        " keras.layers.Dropout(0.25),\n",
        " keras.layers.Dense(10,activation  = 'sigmoid')\n",
        "\n",
        "])"
      ],
      "metadata": {
        "id": "B9Y3przGQ31W"
      },
      "execution_count": null,
      "outputs": []
    },
    {
      "cell_type": "code",
      "source": [
        "model.compile(\n",
        "    optimizer = \"SGD\",\n",
        "    loss= \"sparse_categorical_crossentropy\",\n",
        "    metrics=[\"accuracy\"]\n",
        ")"
      ],
      "metadata": {
        "id": "nw1IJtIRUIih"
      },
      "execution_count": null,
      "outputs": []
    },
    {
      "cell_type": "code",
      "source": [
        "model.fit(x_train,y_train,epochs=100)"
      ],
      "metadata": {
        "colab": {
          "base_uri": "https://localhost:8080/"
        },
        "id": "bg2D_1vKUiwG",
        "outputId": "44f2bce8-d8db-4ae9-d9dd-e3c61f2a9cb8"
      },
      "execution_count": null,
      "outputs": [
        {
          "output_type": "stream",
          "name": "stdout",
          "text": [
            "Epoch 1/100\n",
            "1563/1563 [==============================] - 15s 6ms/step - loss: 1.9148 - accuracy: 0.3095\n",
            "Epoch 2/100\n",
            "1563/1563 [==============================] - 9s 6ms/step - loss: 1.7339 - accuracy: 0.3810\n",
            "Epoch 3/100\n",
            "1563/1563 [==============================] - 9s 6ms/step - loss: 1.6587 - accuracy: 0.4084\n",
            "Epoch 4/100\n",
            "1563/1563 [==============================] - 10s 6ms/step - loss: 1.6033 - accuracy: 0.4294\n",
            "Epoch 5/100\n",
            "1563/1563 [==============================] - 9s 6ms/step - loss: 1.5599 - accuracy: 0.4458\n",
            "Epoch 6/100\n",
            "1563/1563 [==============================] - 9s 6ms/step - loss: 1.5242 - accuracy: 0.4582\n",
            "Epoch 7/100\n",
            "1563/1563 [==============================] - 9s 6ms/step - loss: 1.4949 - accuracy: 0.4704\n",
            "Epoch 8/100\n",
            "1563/1563 [==============================] - 9s 6ms/step - loss: 1.4664 - accuracy: 0.4789\n",
            "Epoch 9/100\n",
            "1563/1563 [==============================] - 9s 6ms/step - loss: 1.4404 - accuracy: 0.4874\n",
            "Epoch 10/100\n",
            "1563/1563 [==============================] - 9s 6ms/step - loss: 1.4157 - accuracy: 0.4941\n",
            "Epoch 11/100\n",
            "1563/1563 [==============================] - 9s 6ms/step - loss: 1.3936 - accuracy: 0.5025\n",
            "Epoch 12/100\n",
            "1563/1563 [==============================] - 9s 6ms/step - loss: 1.3755 - accuracy: 0.5104\n",
            "Epoch 13/100\n",
            "1563/1563 [==============================] - 8s 5ms/step - loss: 1.3528 - accuracy: 0.5181\n",
            "Epoch 14/100\n",
            "1563/1563 [==============================] - 9s 6ms/step - loss: 1.3397 - accuracy: 0.5234\n",
            "Epoch 15/100\n",
            "1563/1563 [==============================] - 9s 6ms/step - loss: 1.3187 - accuracy: 0.5325\n",
            "Epoch 16/100\n",
            "1563/1563 [==============================] - 8s 5ms/step - loss: 1.2988 - accuracy: 0.5364\n",
            "Epoch 17/100\n",
            "1563/1563 [==============================] - 9s 6ms/step - loss: 1.2859 - accuracy: 0.5428\n",
            "Epoch 18/100\n",
            "1563/1563 [==============================] - 9s 6ms/step - loss: 1.2660 - accuracy: 0.5442\n",
            "Epoch 19/100\n",
            "1563/1563 [==============================] - 9s 6ms/step - loss: 1.2487 - accuracy: 0.5557\n",
            "Epoch 20/100\n",
            "1563/1563 [==============================] - 9s 6ms/step - loss: 1.2364 - accuracy: 0.5601\n",
            "Epoch 21/100\n",
            "1563/1563 [==============================] - 9s 6ms/step - loss: 1.2194 - accuracy: 0.5660\n",
            "Epoch 22/100\n",
            "1563/1563 [==============================] - 9s 6ms/step - loss: 1.2043 - accuracy: 0.5672\n",
            "Epoch 23/100\n",
            "1563/1563 [==============================] - 9s 6ms/step - loss: 1.1912 - accuracy: 0.5746\n",
            "Epoch 24/100\n",
            "1563/1563 [==============================] - 9s 6ms/step - loss: 1.1738 - accuracy: 0.5809\n",
            "Epoch 25/100\n",
            "1563/1563 [==============================] - 9s 6ms/step - loss: 1.1642 - accuracy: 0.5856\n",
            "Epoch 26/100\n",
            "1563/1563 [==============================] - 9s 6ms/step - loss: 1.1439 - accuracy: 0.5917\n",
            "Epoch 27/100\n",
            "1563/1563 [==============================] - 9s 5ms/step - loss: 1.1333 - accuracy: 0.5942\n",
            "Epoch 28/100\n",
            "1563/1563 [==============================] - 9s 6ms/step - loss: 1.1194 - accuracy: 0.5981\n",
            "Epoch 29/100\n",
            "1563/1563 [==============================] - 9s 6ms/step - loss: 1.1058 - accuracy: 0.6052\n",
            "Epoch 30/100\n",
            "1563/1563 [==============================] - 8s 5ms/step - loss: 1.0907 - accuracy: 0.6108\n",
            "Epoch 31/100\n",
            "1563/1563 [==============================] - 9s 6ms/step - loss: 1.0764 - accuracy: 0.6133\n",
            "Epoch 32/100\n",
            "1563/1563 [==============================] - 9s 6ms/step - loss: 1.0624 - accuracy: 0.6205\n",
            "Epoch 33/100\n",
            "1563/1563 [==============================] - 9s 5ms/step - loss: 1.0500 - accuracy: 0.6225\n",
            "Epoch 34/100\n",
            "1563/1563 [==============================] - 9s 6ms/step - loss: 1.0370 - accuracy: 0.6288\n",
            "Epoch 35/100\n",
            "1563/1563 [==============================] - 9s 6ms/step - loss: 1.0245 - accuracy: 0.6329\n",
            "Epoch 36/100\n",
            "1563/1563 [==============================] - 10s 6ms/step - loss: 1.0107 - accuracy: 0.6381\n",
            "Epoch 37/100\n",
            "1563/1563 [==============================] - 9s 6ms/step - loss: 0.9957 - accuracy: 0.6431\n",
            "Epoch 38/100\n",
            "1563/1563 [==============================] - 9s 6ms/step - loss: 0.9870 - accuracy: 0.6468\n",
            "Epoch 39/100\n",
            "1563/1563 [==============================] - 9s 6ms/step - loss: 0.9723 - accuracy: 0.6543\n",
            "Epoch 40/100\n",
            "1563/1563 [==============================] - 9s 6ms/step - loss: 0.9570 - accuracy: 0.6581\n",
            "Epoch 41/100\n",
            "1563/1563 [==============================] - 9s 6ms/step - loss: 0.9464 - accuracy: 0.6628\n",
            "Epoch 42/100\n",
            "1563/1563 [==============================] - 9s 6ms/step - loss: 0.9334 - accuracy: 0.6657\n",
            "Epoch 43/100\n",
            "1563/1563 [==============================] - 9s 6ms/step - loss: 0.9210 - accuracy: 0.6688\n",
            "Epoch 44/100\n",
            "1563/1563 [==============================] - 9s 6ms/step - loss: 0.9041 - accuracy: 0.6766\n",
            "Epoch 45/100\n",
            "1563/1563 [==============================] - 9s 6ms/step - loss: 0.8963 - accuracy: 0.6781\n",
            "Epoch 46/100\n",
            "1563/1563 [==============================] - 9s 6ms/step - loss: 0.8842 - accuracy: 0.6838\n",
            "Epoch 47/100\n",
            "1563/1563 [==============================] - 9s 6ms/step - loss: 0.8698 - accuracy: 0.6869\n",
            "Epoch 48/100\n",
            "1563/1563 [==============================] - 9s 6ms/step - loss: 0.8542 - accuracy: 0.6934\n",
            "Epoch 49/100\n",
            "1563/1563 [==============================] - 9s 6ms/step - loss: 0.8407 - accuracy: 0.6985\n",
            "Epoch 50/100\n",
            "1563/1563 [==============================] - 9s 6ms/step - loss: 0.8273 - accuracy: 0.7023\n",
            "Epoch 51/100\n",
            "1563/1563 [==============================] - 9s 6ms/step - loss: 0.8182 - accuracy: 0.7035\n",
            "Epoch 52/100\n",
            "1563/1563 [==============================] - 9s 6ms/step - loss: 0.8079 - accuracy: 0.7106\n",
            "Epoch 53/100\n",
            "1563/1563 [==============================] - 9s 6ms/step - loss: 0.7900 - accuracy: 0.7161\n",
            "Epoch 54/100\n",
            "1563/1563 [==============================] - 9s 6ms/step - loss: 0.7849 - accuracy: 0.7183\n",
            "Epoch 55/100\n",
            "1563/1563 [==============================] - 9s 6ms/step - loss: 0.7765 - accuracy: 0.7204\n",
            "Epoch 56/100\n",
            "1563/1563 [==============================] - 9s 6ms/step - loss: 0.7535 - accuracy: 0.7305\n",
            "Epoch 57/100\n",
            "1563/1563 [==============================] - 9s 6ms/step - loss: 0.7446 - accuracy: 0.7333\n",
            "Epoch 58/100\n",
            "1563/1563 [==============================] - 9s 6ms/step - loss: 0.7385 - accuracy: 0.7345\n",
            "Epoch 59/100\n",
            "1563/1563 [==============================] - 9s 6ms/step - loss: 0.7189 - accuracy: 0.7399\n",
            "Epoch 60/100\n",
            "1563/1563 [==============================] - 9s 6ms/step - loss: 0.7139 - accuracy: 0.7438\n",
            "Epoch 61/100\n",
            "1563/1563 [==============================] - 9s 6ms/step - loss: 0.6948 - accuracy: 0.7516\n",
            "Epoch 62/100\n",
            "1563/1563 [==============================] - 9s 6ms/step - loss: 0.6879 - accuracy: 0.7526\n",
            "Epoch 63/100\n",
            "1563/1563 [==============================] - 9s 6ms/step - loss: 0.6787 - accuracy: 0.7575\n",
            "Epoch 64/100\n",
            "1563/1563 [==============================] - 9s 6ms/step - loss: 0.6672 - accuracy: 0.7628\n",
            "Epoch 65/100\n",
            "1563/1563 [==============================] - 9s 6ms/step - loss: 0.6519 - accuracy: 0.7660\n",
            "Epoch 66/100\n",
            "1563/1563 [==============================] - 9s 6ms/step - loss: 0.6495 - accuracy: 0.7671\n",
            "Epoch 67/100\n",
            "1563/1563 [==============================] - 9s 6ms/step - loss: 0.6240 - accuracy: 0.7751\n",
            "Epoch 68/100\n",
            "1563/1563 [==============================] - 9s 6ms/step - loss: 0.6226 - accuracy: 0.7749\n",
            "Epoch 69/100\n",
            "1563/1563 [==============================] - 9s 6ms/step - loss: 0.6078 - accuracy: 0.7842\n",
            "Epoch 70/100\n",
            "1563/1563 [==============================] - 9s 6ms/step - loss: 0.6002 - accuracy: 0.7865\n",
            "Epoch 71/100\n",
            "1563/1563 [==============================] - 9s 6ms/step - loss: 0.5878 - accuracy: 0.7913\n",
            "Epoch 72/100\n",
            "1563/1563 [==============================] - 9s 6ms/step - loss: 0.5786 - accuracy: 0.7926\n",
            "Epoch 73/100\n",
            "1563/1563 [==============================] - 9s 6ms/step - loss: 0.5716 - accuracy: 0.7959\n",
            "Epoch 74/100\n",
            "1563/1563 [==============================] - 9s 6ms/step - loss: 0.5560 - accuracy: 0.8008\n",
            "Epoch 75/100\n",
            "1563/1563 [==============================] - 9s 6ms/step - loss: 0.5515 - accuracy: 0.8028\n",
            "Epoch 76/100\n",
            "1563/1563 [==============================] - 9s 6ms/step - loss: 0.5373 - accuracy: 0.8071\n",
            "Epoch 77/100\n",
            "1563/1563 [==============================] - 9s 6ms/step - loss: 0.5294 - accuracy: 0.8112\n",
            "Epoch 78/100\n",
            "1563/1563 [==============================] - 9s 6ms/step - loss: 0.5209 - accuracy: 0.8157\n",
            "Epoch 79/100\n",
            "1563/1563 [==============================] - 9s 6ms/step - loss: 0.5096 - accuracy: 0.8163\n",
            "Epoch 80/100\n",
            "1563/1563 [==============================] - 9s 6ms/step - loss: 0.5044 - accuracy: 0.8192\n",
            "Epoch 81/100\n",
            "1563/1563 [==============================] - 9s 6ms/step - loss: 0.4988 - accuracy: 0.8230\n",
            "Epoch 82/100\n",
            "1563/1563 [==============================] - 9s 6ms/step - loss: 0.4862 - accuracy: 0.8264\n",
            "Epoch 83/100\n",
            "1563/1563 [==============================] - 9s 6ms/step - loss: 0.4790 - accuracy: 0.8269\n",
            "Epoch 84/100\n",
            "1563/1563 [==============================] - 9s 6ms/step - loss: 0.4717 - accuracy: 0.8319\n",
            "Epoch 85/100\n",
            "1563/1563 [==============================] - 9s 6ms/step - loss: 0.4541 - accuracy: 0.8386\n",
            "Epoch 86/100\n",
            "1563/1563 [==============================] - 11s 7ms/step - loss: 0.4486 - accuracy: 0.8386\n",
            "Epoch 87/100\n",
            "1563/1563 [==============================] - 9s 6ms/step - loss: 0.4519 - accuracy: 0.8382\n",
            "Epoch 88/100\n",
            "1563/1563 [==============================] - 9s 6ms/step - loss: 0.4334 - accuracy: 0.8439\n",
            "Epoch 89/100\n",
            "1563/1563 [==============================] - 9s 6ms/step - loss: 0.4325 - accuracy: 0.8437\n",
            "Epoch 90/100\n",
            "1563/1563 [==============================] - 9s 6ms/step - loss: 0.4226 - accuracy: 0.8484\n",
            "Epoch 91/100\n",
            "1563/1563 [==============================] - 9s 6ms/step - loss: 0.4150 - accuracy: 0.8516\n",
            "Epoch 92/100\n",
            "1563/1563 [==============================] - 9s 6ms/step - loss: 0.4109 - accuracy: 0.8535\n",
            "Epoch 93/100\n",
            "1563/1563 [==============================] - 9s 6ms/step - loss: 0.4041 - accuracy: 0.8553\n",
            "Epoch 94/100\n",
            "1563/1563 [==============================] - 9s 6ms/step - loss: 0.3885 - accuracy: 0.8610\n",
            "Epoch 95/100\n",
            "1563/1563 [==============================] - 9s 6ms/step - loss: 0.3869 - accuracy: 0.8621\n",
            "Epoch 96/100\n",
            "1563/1563 [==============================] - 9s 6ms/step - loss: 0.3880 - accuracy: 0.8606\n",
            "Epoch 97/100\n",
            "1563/1563 [==============================] - 9s 6ms/step - loss: 0.3729 - accuracy: 0.8663\n",
            "Epoch 98/100\n",
            "1563/1563 [==============================] - 9s 6ms/step - loss: 0.3684 - accuracy: 0.8688\n",
            "Epoch 99/100\n",
            "1563/1563 [==============================] - 9s 6ms/step - loss: 0.3610 - accuracy: 0.8712\n",
            "Epoch 100/100\n",
            "1563/1563 [==============================] - 9s 6ms/step - loss: 0.3546 - accuracy: 0.8731\n"
          ]
        },
        {
          "output_type": "execute_result",
          "data": {
            "text/plain": [
              "<keras.src.callbacks.History at 0x7b68f11eba90>"
            ]
          },
          "metadata": {},
          "execution_count": 9
        }
      ]
    },
    {
      "cell_type": "code",
      "source": [
        "model.evaluate(x_test,y_test)"
      ],
      "metadata": {
        "colab": {
          "base_uri": "https://localhost:8080/"
        },
        "id": "ck1ZjyaAXC0a",
        "outputId": "9fc924f0-cc56-4062-9cc3-fad288769ff1"
      },
      "execution_count": null,
      "outputs": [
        {
          "output_type": "stream",
          "name": "stdout",
          "text": [
            "313/313 [==============================] - 1s 3ms/step - loss: 1.6048 - accuracy: 0.5820\n"
          ]
        },
        {
          "output_type": "execute_result",
          "data": {
            "text/plain": [
              "[1.6047579050064087, 0.5820000171661377]"
            ]
          },
          "metadata": {},
          "execution_count": 10
        }
      ]
    },
    {
      "cell_type": "code",
      "source": [
        "y_predict = model.predict(x_test)"
      ],
      "metadata": {
        "colab": {
          "base_uri": "https://localhost:8080/"
        },
        "id": "O9dRtP7fY26q",
        "outputId": "d7664ec4-3d78-44cf-cac1-2501f1ca4457"
      },
      "execution_count": null,
      "outputs": [
        {
          "output_type": "stream",
          "name": "stdout",
          "text": [
            "313/313 [==============================] - 1s 2ms/step\n"
          ]
        }
      ]
    },
    {
      "cell_type": "markdown",
      "source": [
        "##**Visually Ayalyzing The Prediction**\n"
      ],
      "metadata": {
        "id": "N-F-G1SN7YC7"
      }
    },
    {
      "cell_type": "code",
      "source": [
        "def show_name(index):\n",
        "  names = ['airplane','automobile','bird','cat','deer','dog','frog','horse','ship','truck']\n",
        "  print(names[np.argmax(y_predict[index])])\n"
      ],
      "metadata": {
        "id": "PLO94wggMJRq"
      },
      "execution_count": null,
      "outputs": []
    },
    {
      "cell_type": "code",
      "source": [
        "def show_img(index):\n",
        "  plt.figure(figsize=(10,2))\n",
        "  plt.imshow(x_test[index])\n",
        "\n"
      ],
      "metadata": {
        "id": "RqvIdIQXMFrt"
      },
      "execution_count": null,
      "outputs": []
    },
    {
      "cell_type": "code",
      "source": [
        "i = 64\n",
        "show_img(i)\n",
        "show_name(i)"
      ],
      "metadata": {
        "colab": {
          "base_uri": "https://localhost:8080/",
          "height": 234
        },
        "id": "4OcVkCaZXgkh",
        "outputId": "d0014e42-1597-4476-92d8-2d85a9acdd73"
      },
      "execution_count": null,
      "outputs": [
        {
          "output_type": "stream",
          "name": "stdout",
          "text": [
            "frog\n"
          ]
        },
        {
          "output_type": "display_data",
          "data": {
            "text/plain": [
              "<Figure size 1000x200 with 1 Axes>"
            ],
            "image/png": "[encoded data removed]"
          },
          "metadata": {}
        }
      ]
    },
    {
      "cell_type": "code",
      "source": [],
      "metadata": {
        "id": "34vZd2jxZVni"
      },
      "execution_count": null,
      "outputs": []
    }
  ]
}
