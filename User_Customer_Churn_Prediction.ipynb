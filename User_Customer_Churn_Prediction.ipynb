{
  "nbformat": 4,
  "nbformat_minor": 0,
  "metadata": {
    "colab": {
      "provenance": [],
      "gpuType": "T4",
      "authorship_tag": "ABX9TyMDRCF4R7367Q+EK3lhIpI/",
      "include_colab_link": true
    },
    "kernelspec": {
      "name": "python3",
      "display_name": "Python 3"
    },
    "language_info": {
      "name": "python"
    },
    "accelerator": "GPU"
  },
  "cells": [
    {
      "cell_type": "markdown",
      "metadata": {
        "id": "view-in-github",
        "colab_type": "text"
      },
      "source": [
        "<a href=\"https://colab.research.google.com/github/antidude900/Deep-Learning-Practise-Projects/blob/main/User_Customer_Churn_Prediction.ipynb\" target=\"_parent\"><img src=\"https://colab.research.google.com/assets/colab-badge.svg\" alt=\"Open In Colab\"/></a>"
      ]
    },
    {
      "cell_type": "markdown",
      "source": [
        "#**Handwriting Recognition Program**\n"
      ],
      "metadata": {
        "id": "NV06ReqP82Rp"
      }
    },
    {
      "cell_type": "markdown",
      "source": [
        "##**Setting and Cleaning Up the Data**\n"
      ],
      "metadata": {
        "id": "KctIIYSr89Cw"
      }
    },
    {
      "cell_type": "code",
      "execution_count": null,
      "metadata": {
        "id": "vxPx_e3Etvts"
      },
      "outputs": [],
      "source": [
        "import pandas as pd\n",
        "import matplotlib.pyplot as plt\n",
        "import numpy as np\n",
        "%matplotlib inline"
      ]
    },
    {
      "cell_type": "code",
      "source": [
        "data = pd.read_csv(\"/content/WA_Fn-UseC_-Telco-Customer-Churn.csv\")\n",
        "data.sample(5)"
      ],
      "metadata": {
        "colab": {
          "base_uri": "https://localhost:8080/",
          "height": 342
        },
        "id": "BKTHZMBfuSQL",
        "outputId": "16adf596-c9e7-4079-f9c2-1569911813c1"
      },
      "execution_count": null,
      "outputs": [
        {
          "output_type": "execute_result",
          "data": {
            "text/plain": [
              "      customerID  gender  SeniorCitizen Partner Dependents  tenure  \\\n",
              "2979  8996-ZROXE    Male              1      No         No      57   \n",
              "4777  7501-VTYLJ  Female              0      No        Yes       2   \n",
              "449   1090-ESELR    Male              0     Yes        Yes      72   \n",
              "5583  2657-ALMWY  Female              1     Yes         No      26   \n",
              "4358  6253-WRFHY    Male              0     Yes        Yes      13   \n",
              "\n",
              "     PhoneService MultipleLines InternetService OnlineSecurity  ...  \\\n",
              "2979          Yes            No             DSL             No  ...   \n",
              "4777          Yes            No             DSL             No  ...   \n",
              "449           Yes            No     Fiber optic            Yes  ...   \n",
              "5583          Yes            No     Fiber optic             No  ...   \n",
              "4358          Yes            No             DSL             No  ...   \n",
              "\n",
              "     DeviceProtection TechSupport StreamingTV StreamingMovies        Contract  \\\n",
              "2979              Yes         Yes          No              No        One year   \n",
              "4777               No          No          No              No  Month-to-month   \n",
              "449                No         Yes         Yes             Yes        Two year   \n",
              "5583               No          No          No             Yes  Month-to-month   \n",
              "4358               No          No         Yes             Yes        One year   \n",
              "\n",
              "     PaperlessBilling              PaymentMethod MonthlyCharges  TotalCharges  \\\n",
              "2979              Yes           Electronic check          53.50        3035.8   \n",
              "4777               No               Mailed check          51.55         106.2   \n",
              "449                No  Bank transfer (automatic)         105.50       7611.55   \n",
              "5583               No           Electronic check          84.95       2169.75   \n",
              "4358              Yes           Electronic check          64.75        877.35   \n",
              "\n",
              "     Churn  \n",
              "2979    No  \n",
              "4777    No  \n",
              "449     No  \n",
              "5583   Yes  \n",
              "4358    No  \n",
              "\n",
              "[5 rows x 21 columns]"
            ],
            "text/html": [
              "\n",
              "  <div id=\"df-40b0e5ff-0865-4067-a7ba-4f8a430b8bff\" class=\"colab-df-container\">\n",
              "    <div>\n",
              "<style scoped>\n",
              "    .dataframe tbody tr th:only-of-type {\n",
              "        vertical-align: middle;\n",
              "    }\n",
              "\n",
              "    .dataframe tbody tr th {\n",
              "        vertical-align: top;\n",
              "    }\n",
              "\n",
              "    .dataframe thead th {\n",
              "        text-align: right;\n",
              "    }\n",
              "</style>\n",
              "<table border=\"1\" class=\"dataframe\">\n",
              "  <thead>\n",
              "    <tr style=\"text-align: right;\">\n",
              "      <th></th>\n",
              "      <th>customerID</th>\n",
              "      <th>gender</th>\n",
              "      <th>SeniorCitizen</th>\n",
              "      <th>Partner</th>\n",
              "      <th>Dependents</th>\n",
              "      <th>tenure</th>\n",
              "      <th>PhoneService</th>\n",
              "      <th>MultipleLines</th>\n",
              "      <th>InternetService</th>\n",
              "      <th>OnlineSecurity</th>\n",
              "      <th>...</th>\n",
              "      <th>DeviceProtection</th>\n",
              "      <th>TechSupport</th>\n",
              "      <th>StreamingTV</th>\n",
              "      <th>StreamingMovies</th>\n",
              "      <th>Contract</th>\n",
              "      <th>PaperlessBilling</th>\n",
              "      <th>PaymentMethod</th>\n",
              "      <th>MonthlyCharges</th>\n",
              "      <th>TotalCharges</th>\n",
              "      <th>Churn</th>\n",
              "    </tr>\n",
              "  </thead>\n",
              "  <tbody>\n",
              "    <tr>\n",
              "      <th>2979</th>\n",
              "      <td>8996-ZROXE</td>\n",
              "      <td>Male</td>\n",
              "      <td>1</td>\n",
              "      <td>No</td>\n",
              "      <td>No</td>\n",
              "      <td>57</td>\n",
              "      <td>Yes</td>\n",
              "      <td>No</td>\n",
              "      <td>DSL</td>\n",
              "      <td>No</td>\n",
              "      <td>...</td>\n",
              "      <td>Yes</td>\n",
              "      <td>Yes</td>\n",
              "      <td>No</td>\n",
              "      <td>No</td>\n",
              "      <td>One year</td>\n",
              "      <td>Yes</td>\n",
              "      <td>Electronic check</td>\n",
              "      <td>53.50</td>\n",
              "      <td>3035.8</td>\n",
              "      <td>No</td>\n",
              "    </tr>\n",
              "    <tr>\n",
              "      <th>4777</th>\n",
              "      <td>7501-VTYLJ</td>\n",
              "      <td>Female</td>\n",
              "      <td>0</td>\n",
              "      <td>No</td>\n",
              "      <td>Yes</td>\n",
              "      <td>2</td>\n",
              "      <td>Yes</td>\n",
              "      <td>No</td>\n",
              "      <td>DSL</td>\n",
              "      <td>No</td>\n",
              "      <td>...</td>\n",
              "      <td>No</td>\n",
              "      <td>No</td>\n",
              "      <td>No</td>\n",
              "      <td>No</td>\n",
              "      <td>Month-to-month</td>\n",
              "      <td>No</td>\n",
              "      <td>Mailed check</td>\n",
              "      <td>51.55</td>\n",
              "      <td>106.2</td>\n",
              "      <td>No</td>\n",
              "    </tr>\n",
              "    <tr>\n",
              "      <th>449</th>\n",
              "      <td>1090-ESELR</td>\n",
              "      <td>Male</td>\n",
              "      <td>0</td>\n",
              "      <td>Yes</td>\n",
              "      <td>Yes</td>\n",
              "      <td>72</td>\n",
              "      <td>Yes</td>\n",
              "      <td>No</td>\n",
              "      <td>Fiber optic</td>\n",
              "      <td>Yes</td>\n",
              "      <td>...</td>\n",
              "      <td>No</td>\n",
              "      <td>Yes</td>\n",
              "      <td>Yes</td>\n",
              "      <td>Yes</td>\n",
              "      <td>Two year</td>\n",
              "      <td>No</td>\n",
              "      <td>Bank transfer (automatic)</td>\n",
              "      <td>105.50</td>\n",
              "      <td>7611.55</td>\n",
              "      <td>No</td>\n",
              "    </tr>\n",
              "    <tr>\n",
              "      <th>5583</th>\n",
              "      <td>2657-ALMWY</td>\n",
              "      <td>Female</td>\n",
              "      <td>1</td>\n",
              "      <td>Yes</td>\n",
              "      <td>No</td>\n",
              "      <td>26</td>\n",
              "      <td>Yes</td>\n",
              "      <td>No</td>\n",
              "      <td>Fiber optic</td>\n",
              "      <td>No</td>\n",
              "      <td>...</td>\n",
              "      <td>No</td>\n",
              "      <td>No</td>\n",
              "      <td>No</td>\n",
              "      <td>Yes</td>\n",
              "      <td>Month-to-month</td>\n",
              "      <td>No</td>\n",
              "      <td>Electronic check</td>\n",
              "      <td>84.95</td>\n",
              "      <td>2169.75</td>\n",
              "      <td>Yes</td>\n",
              "    </tr>\n",
              "    <tr>\n",
              "      <th>4358</th>\n",
              "      <td>6253-WRFHY</td>\n",
              "      <td>Male</td>\n",
              "      <td>0</td>\n",
              "      <td>Yes</td>\n",
              "      <td>Yes</td>\n",
              "      <td>13</td>\n",
              "      <td>Yes</td>\n",
              "      <td>No</td>\n",
              "      <td>DSL</td>\n",
              "      <td>No</td>\n",
              "      <td>...</td>\n",
              "      <td>No</td>\n",
              "      <td>No</td>\n",
              "      <td>Yes</td>\n",
              "      <td>Yes</td>\n",
              "      <td>One year</td>\n",
              "      <td>Yes</td>\n",
              "      <td>Electronic check</td>\n",
              "      <td>64.75</td>\n",
              "      <td>877.35</td>\n",
              "      <td>No</td>\n",
              "    </tr>\n",
              "  </tbody>\n",
              "</table>\n",
              "<p>5 rows × 21 columns</p>\n",
              "</div>\n",
              "    <div class=\"colab-df-buttons\">\n",
              "\n",
              "  <div class=\"colab-df-container\">\n",
              "    <button class=\"colab-df-convert\" onclick=\"convertToInteractive('df-40b0e5ff-0865-4067-a7ba-4f8a430b8bff')\"\n",
              "            title=\"Convert this dataframe to an interactive table.\"\n",
              "            style=\"display:none;\">\n",
              "\n",
              "  <svg xmlns=\"http://www.w3.org/2000/svg\" height=\"24px\" viewBox=\"0 -960 960 960\">\n",
              "    <path d=\"M120-120v-720h720v720H120Zm60-500h600v-160H180v160Zm220 220h160v-160H400v160Zm0 220h160v-160H400v160ZM180-400h160v-160H180v160Zm440 0h160v-160H620v160ZM180-180h160v-160H180v160Zm440 0h160v-160H620v160Z\"/>\n",
              "  </svg>\n",
              "    </button>\n",
              "\n",
              "  <style>\n",
              "    .colab-df-container {\n",
              "      display:flex;\n",
              "      gap: 12px;\n",
              "    }\n",
              "\n",
              "    .colab-df-convert {\n",
              "      background-color: #E8F0FE;\n",
              "      border: none;\n",
              "      border-radius: 50%;\n",
              "      cursor: pointer;\n",
              "      display: none;\n",
              "      fill: #1967D2;\n",
              "      height: 32px;\n",
              "      padding: 0 0 0 0;\n",
              "      width: 32px;\n",
              "    }\n",
              "\n",
              "    .colab-df-convert:hover {\n",
              "      background-color: #E2EBFA;\n",
              "      box-shadow: 0px 1px 2px rgba(60, 64, 67, 0.3), 0px 1px 3px 1px rgba(60, 64, 67, 0.15);\n",
              "      fill: #174EA6;\n",
              "    }\n",
              "\n",
              "    .colab-df-buttons div {\n",
              "      margin-bottom: 4px;\n",
              "    }\n",
              "\n",
              "    [theme=dark] .colab-df-convert {\n",
              "      background-color: #3B4455;\n",
              "      fill: #D2E3FC;\n",
              "    }\n",
              "\n",
              "    [theme=dark] .colab-df-convert:hover {\n",
              "      background-color: #434B5C;\n",
              "      box-shadow: 0px 1px 3px 1px rgba(0, 0, 0, 0.15);\n",
              "      filter: drop-shadow(0px 1px 2px rgba(0, 0, 0, 0.3));\n",
              "      fill: #FFFFFF;\n",
              "    }\n",
              "  </style>\n",
              "\n",
              "    <script>\n",
              "      const buttonEl =\n",
              "        document.querySelector('#df-40b0e5ff-0865-4067-a7ba-4f8a430b8bff button.colab-df-convert');\n",
              "      buttonEl.style.display =\n",
              "        google.colab.kernel.accessAllowed ? 'block' : 'none';\n",
              "\n",
              "      async function convertToInteractive(key) {\n",
              "        const element = document.querySelector('#df-40b0e5ff-0865-4067-a7ba-4f8a430b8bff');\n",
              "        const dataTable =\n",
              "          await google.colab.kernel.invokeFunction('convertToInteractive',\n",
              "                                                    [key], {});\n",
              "        if (!dataTable) return;\n",
              "\n",
              "        const docLinkHtml = 'Like what you see? Visit the ' +\n",
              "          '<a target=\"_blank\" href=https://colab.research.google.com/notebooks/data_table.ipynb>data table notebook</a>'\n",
              "          + ' to learn more about interactive tables.';\n",
              "        element.innerHTML = '';\n",
              "        dataTable['output_type'] = 'display_data';\n",
              "        await google.colab.output.renderOutput(dataTable, element);\n",
              "        const docLink = document.createElement('div');\n",
              "        docLink.innerHTML = docLinkHtml;\n",
              "        element.appendChild(docLink);\n",
              "      }\n",
              "    </script>\n",
              "  </div>\n",
              "\n",
              "\n",
              "<div id=\"df-01de0605-6eb1-4f19-bfdc-34102913fe41\">\n",
              "  <button class=\"colab-df-quickchart\" onclick=\"quickchart('df-01de0605-6eb1-4f19-bfdc-34102913fe41')\"\n",
              "            title=\"Suggest charts\"\n",
              "            style=\"display:none;\">\n",
              "\n",
              "<svg xmlns=\"http://www.w3.org/2000/svg\" height=\"24px\"viewBox=\"0 0 24 24\"\n",
              "     width=\"24px\">\n",
              "    <g>\n",
              "        <path d=\"M19 3H5c-1.1 0-2 .9-2 2v14c0 1.1.9 2 2 2h14c1.1 0 2-.9 2-2V5c0-1.1-.9-2-2-2zM9 17H7v-7h2v7zm4 0h-2V7h2v10zm4 0h-2v-4h2v4z\"/>\n",
              "    </g>\n",
              "</svg>\n",
              "  </button>\n",
              "\n",
              "<style>\n",
              "  .colab-df-quickchart {\n",
              "      --bg-color: #E8F0FE;\n",
              "      --fill-color: #1967D2;\n",
              "      --hover-bg-color: #E2EBFA;\n",
              "      --hover-fill-color: #174EA6;\n",
              "      --disabled-fill-color: #AAA;\n",
              "      --disabled-bg-color: #DDD;\n",
              "  }\n",
              "\n",
              "  [theme=dark] .colab-df-quickchart {\n",
              "      --bg-color: #3B4455;\n",
              "      --fill-color: #D2E3FC;\n",
              "      --hover-bg-color: #434B5C;\n",
              "      --hover-fill-color: #FFFFFF;\n",
              "      --disabled-bg-color: #3B4455;\n",
              "      --disabled-fill-color: #666;\n",
              "  }\n",
              "\n",
              "  .colab-df-quickchart {\n",
              "    background-color: var(--bg-color);\n",
              "    border: none;\n",
              "    border-radius: 50%;\n",
              "    cursor: pointer;\n",
              "    display: none;\n",
              "    fill: var(--fill-color);\n",
              "    height: 32px;\n",
              "    padding: 0;\n",
              "    width: 32px;\n",
              "  }\n",
              "\n",
              "  .colab-df-quickchart:hover {\n",
              "    background-color: var(--hover-bg-color);\n",
              "    box-shadow: 0 1px 2px rgba(60, 64, 67, 0.3), 0 1px 3px 1px rgba(60, 64, 67, 0.15);\n",
              "    fill: var(--button-hover-fill-color);\n",
              "  }\n",
              "\n",
              "  .colab-df-quickchart-complete:disabled,\n",
              "  .colab-df-quickchart-complete:disabled:hover {\n",
              "    background-color: var(--disabled-bg-color);\n",
              "    fill: var(--disabled-fill-color);\n",
              "    box-shadow: none;\n",
              "  }\n",
              "\n",
              "  .colab-df-spinner {\n",
              "    border: 2px solid var(--fill-color);\n",
              "    border-color: transparent;\n",
              "    border-bottom-color: var(--fill-color);\n",
              "    animation:\n",
              "      spin 1s steps(1) infinite;\n",
              "  }\n",
              "\n",
              "  @keyframes spin {\n",
              "    0% {\n",
              "      border-color: transparent;\n",
              "      border-bottom-color: var(--fill-color);\n",
              "      border-left-color: var(--fill-color);\n",
              "    }\n",
              "    20% {\n",
              "      border-color: transparent;\n",
              "      border-left-color: var(--fill-color);\n",
              "      border-top-color: var(--fill-color);\n",
              "    }\n",
              "    30% {\n",
              "      border-color: transparent;\n",
              "      border-left-color: var(--fill-color);\n",
              "      border-top-color: var(--fill-color);\n",
              "      border-right-color: var(--fill-color);\n",
              "    }\n",
              "    40% {\n",
              "      border-color: transparent;\n",
              "      border-right-color: var(--fill-color);\n",
              "      border-top-color: var(--fill-color);\n",
              "    }\n",
              "    60% {\n",
              "      border-color: transparent;\n",
              "      border-right-color: var(--fill-color);\n",
              "    }\n",
              "    80% {\n",
              "      border-color: transparent;\n",
              "      border-right-color: var(--fill-color);\n",
              "      border-bottom-color: var(--fill-color);\n",
              "    }\n",
              "    90% {\n",
              "      border-color: transparent;\n",
              "      border-bottom-color: var(--fill-color);\n",
              "    }\n",
              "  }\n",
              "</style>\n",
              "\n",
              "  <script>\n",
              "    async function quickchart(key) {\n",
              "      const quickchartButtonEl =\n",
              "        document.querySelector('#' + key + ' button');\n",
              "      quickchartButtonEl.disabled = true;  // To prevent multiple clicks.\n",
              "      quickchartButtonEl.classList.add('colab-df-spinner');\n",
              "      try {\n",
              "        const charts = await google.colab.kernel.invokeFunction(\n",
              "            'suggestCharts', [key], {});\n",
              "      } catch (error) {\n",
              "        console.error('Error during call to suggestCharts:', error);\n",
              "      }\n",
              "      quickchartButtonEl.classList.remove('colab-df-spinner');\n",
              "      quickchartButtonEl.classList.add('colab-df-quickchart-complete');\n",
              "    }\n",
              "    (() => {\n",
              "      let quickchartButtonEl =\n",
              "        document.querySelector('#df-01de0605-6eb1-4f19-bfdc-34102913fe41 button');\n",
              "      quickchartButtonEl.style.display =\n",
              "        google.colab.kernel.accessAllowed ? 'block' : 'none';\n",
              "    })();\n",
              "  </script>\n",
              "</div>\n",
              "    </div>\n",
              "  </div>\n"
            ]
          },
          "metadata": {},
          "execution_count": 10
        }
      ]
    },
    {
      "cell_type": "code",
      "source": [
        "data.drop('customerID',axis='columns',inplace=True)"
      ],
      "metadata": {
        "id": "VPwXGTeWvQTF"
      },
      "execution_count": null,
      "outputs": []
    },
    {
      "cell_type": "code",
      "source": [
        "data.dtypes"
      ],
      "metadata": {
        "colab": {
          "base_uri": "https://localhost:8080/"
        },
        "id": "NuJ1Wm7CvkAS",
        "outputId": "8737cce1-95ea-4268-d25e-0c56c96b507e"
      },
      "execution_count": null,
      "outputs": [
        {
          "output_type": "execute_result",
          "data": {
            "text/plain": [
              "gender               object\n",
              "SeniorCitizen         int64\n",
              "Partner              object\n",
              "Dependents           object\n",
              "tenure                int64\n",
              "PhoneService         object\n",
              "MultipleLines        object\n",
              "InternetService      object\n",
              "OnlineSecurity       object\n",
              "OnlineBackup         object\n",
              "DeviceProtection     object\n",
              "TechSupport          object\n",
              "StreamingTV          object\n",
              "StreamingMovies      object\n",
              "Contract             object\n",
              "PaperlessBilling     object\n",
              "PaymentMethod        object\n",
              "MonthlyCharges      float64\n",
              "TotalCharges         object\n",
              "Churn                object\n",
              "dtype: object"
            ]
          },
          "metadata": {},
          "execution_count": 12
        }
      ]
    },
    {
      "cell_type": "code",
      "source": [
        "pd.to_numeric(data.TotalCharges,errors='coerce')"
      ],
      "metadata": {
        "colab": {
          "base_uri": "https://localhost:8080/"
        },
        "id": "wzcOLk7iwFw3",
        "outputId": "1a853970-a112-48d1-89a0-b0eefca120d9"
      },
      "execution_count": null,
      "outputs": [
        {
          "output_type": "execute_result",
          "data": {
            "text/plain": [
              "0         29.85\n",
              "1       1889.50\n",
              "2        108.15\n",
              "3       1840.75\n",
              "4        151.65\n",
              "         ...   \n",
              "7038    1990.50\n",
              "7039    7362.90\n",
              "7040     346.45\n",
              "7041     306.60\n",
              "7042    6844.50\n",
              "Name: TotalCharges, Length: 7043, dtype: float64"
            ]
          },
          "metadata": {},
          "execution_count": 13
        }
      ]
    },
    {
      "cell_type": "code",
      "source": [
        "data =data[data.TotalCharges!=' ']"
      ],
      "metadata": {
        "id": "IM0JzTXkv1Nk"
      },
      "execution_count": null,
      "outputs": []
    },
    {
      "cell_type": "code",
      "source": [
        "data.TotalCharges = pd.to_numeric(data.TotalCharges)"
      ],
      "metadata": {
        "id": "2QNU7jozyzso"
      },
      "execution_count": null,
      "outputs": []
    },
    {
      "cell_type": "code",
      "source": [
        "data.TotalCharges"
      ],
      "metadata": {
        "colab": {
          "base_uri": "https://localhost:8080/"
        },
        "id": "mcusqvjkzSgn",
        "outputId": "cfdb9785-cbf7-443a-bd18-1b3d67b63a75"
      },
      "execution_count": null,
      "outputs": [
        {
          "output_type": "execute_result",
          "data": {
            "text/plain": [
              "0         29.85\n",
              "1       1889.50\n",
              "2        108.15\n",
              "3       1840.75\n",
              "4        151.65\n",
              "         ...   \n",
              "7038    1990.50\n",
              "7039    7362.90\n",
              "7040     346.45\n",
              "7041     306.60\n",
              "7042    6844.50\n",
              "Name: TotalCharges, Length: 7032, dtype: float64"
            ]
          },
          "metadata": {},
          "execution_count": 16
        }
      ]
    },
    {
      "cell_type": "code",
      "source": [
        "def unique_col_values():\n",
        "  for column in data:\n",
        "    if data[column].dtypes == object:\n",
        "      print(f\"{column}={data[column].unique()}\")\n",
        "\n",
        "unique_col_values()"
      ],
      "metadata": {
        "colab": {
          "base_uri": "https://localhost:8080/"
        },
        "id": "qIn3_t6gCn7i",
        "outputId": "b6a35625-07f7-472b-8c01-e24a871f0d3a"
      },
      "execution_count": null,
      "outputs": [
        {
          "output_type": "stream",
          "name": "stdout",
          "text": [
            "gender=['Female' 'Male']\n",
            "Partner=['Yes' 'No']\n",
            "Dependents=['No' 'Yes']\n",
            "PhoneService=['No' 'Yes']\n",
            "MultipleLines=['No phone service' 'No' 'Yes']\n",
            "InternetService=['DSL' 'Fiber optic' 'No']\n",
            "OnlineSecurity=['No' 'Yes' 'No internet service']\n",
            "OnlineBackup=['Yes' 'No' 'No internet service']\n",
            "DeviceProtection=['No' 'Yes' 'No internet service']\n",
            "TechSupport=['No' 'Yes' 'No internet service']\n",
            "StreamingTV=['No' 'Yes' 'No internet service']\n",
            "StreamingMovies=['No' 'Yes' 'No internet service']\n",
            "Contract=['Month-to-month' 'One year' 'Two year']\n",
            "PaperlessBilling=['Yes' 'No']\n",
            "PaymentMethod=['Electronic check' 'Mailed check' 'Bank transfer (automatic)'\n",
            " 'Credit card (automatic)']\n",
            "Churn=['No' 'Yes']\n"
          ]
        }
      ]
    },
    {
      "cell_type": "code",
      "source": [
        "data.replace(\"No internet service\",\"No\",inplace=True)"
      ],
      "metadata": {
        "id": "dGroKpgvElWo"
      },
      "execution_count": null,
      "outputs": []
    },
    {
      "cell_type": "code",
      "source": [
        "data.replace(\"No phone service\",\"No\",inplace=True)"
      ],
      "metadata": {
        "id": "6q1wEE4QFJMS"
      },
      "execution_count": null,
      "outputs": []
    },
    {
      "cell_type": "code",
      "source": [
        "unique_col_values()"
      ],
      "metadata": {
        "colab": {
          "base_uri": "https://localhost:8080/"
        },
        "id": "OrZAGB6HFBDH",
        "outputId": "80d2d9d0-fd59-4d30-f1a1-3a5d5cdf950f"
      },
      "execution_count": null,
      "outputs": [
        {
          "output_type": "stream",
          "name": "stdout",
          "text": [
            "gender=['Female' 'Male']\n",
            "Partner=['Yes' 'No']\n",
            "Dependents=['No' 'Yes']\n",
            "PhoneService=['No' 'Yes']\n",
            "MultipleLines=['No' 'Yes']\n",
            "InternetService=['DSL' 'Fiber optic' 'No']\n",
            "OnlineSecurity=['No' 'Yes']\n",
            "OnlineBackup=['Yes' 'No']\n",
            "DeviceProtection=['No' 'Yes']\n",
            "TechSupport=['No' 'Yes']\n",
            "StreamingTV=['No' 'Yes']\n",
            "StreamingMovies=['No' 'Yes']\n",
            "Contract=['Month-to-month' 'One year' 'Two year']\n",
            "PaperlessBilling=['Yes' 'No']\n",
            "PaymentMethod=['Electronic check' 'Mailed check' 'Bank transfer (automatic)'\n",
            " 'Credit card (automatic)']\n",
            "Churn=['No' 'Yes']\n"
          ]
        }
      ]
    },
    {
      "cell_type": "code",
      "source": [
        "yes_no_colums = [column for column in data if (data[column].dtypes==object and len(data[column].unique())==2)]"
      ],
      "metadata": {
        "id": "RlGv8txGFwkR"
      },
      "execution_count": null,
      "outputs": []
    },
    {
      "cell_type": "code",
      "source": [
        "for column in yes_no_colums:\n",
        "  data[column].replace({'Yes':1,'No':0},inplace=True)"
      ],
      "metadata": {
        "id": "pdmL4KBaGNR0"
      },
      "execution_count": null,
      "outputs": []
    },
    {
      "cell_type": "code",
      "source": [
        "for column in data:\n",
        "  print(f\"{column}={data[column].unique()}\")\n"
      ],
      "metadata": {
        "colab": {
          "base_uri": "https://localhost:8080/"
        },
        "id": "KHn3eEffGbiq",
        "outputId": "87784847-fbe0-487d-e590-d2044d6bba98"
      },
      "execution_count": null,
      "outputs": [
        {
          "output_type": "stream",
          "name": "stdout",
          "text": [
            "gender=['Female' 'Male']\n",
            "SeniorCitizen=[0 1]\n",
            "Partner=[1 0]\n",
            "Dependents=[0 1]\n",
            "tenure=[ 1 34  2 45  8 22 10 28 62 13 16 58 49 25 69 52 71 21 12 30 47 72 17 27\n",
            "  5 46 11 70 63 43 15 60 18 66  9  3 31 50 64 56  7 42 35 48 29 65 38 68\n",
            " 32 55 37 36 41  6  4 33 67 23 57 61 14 20 53 40 59 24 44 19 54 51 26 39]\n",
            "PhoneService=[0 1]\n",
            "MultipleLines=[0 1]\n",
            "InternetService=['DSL' 'Fiber optic' 'No']\n",
            "OnlineSecurity=[0 1]\n",
            "OnlineBackup=[1 0]\n",
            "DeviceProtection=[0 1]\n",
            "TechSupport=[0 1]\n",
            "StreamingTV=[0 1]\n",
            "StreamingMovies=[0 1]\n",
            "Contract=['Month-to-month' 'One year' 'Two year']\n",
            "PaperlessBilling=[1 0]\n",
            "PaymentMethod=['Electronic check' 'Mailed check' 'Bank transfer (automatic)'\n",
            " 'Credit card (automatic)']\n",
            "MonthlyCharges=[29.85 56.95 53.85 ... 63.1  44.2  78.7 ]\n",
            "TotalCharges=[  29.85 1889.5   108.15 ...  346.45  306.6  6844.5 ]\n",
            "Churn=[0 1]\n"
          ]
        }
      ]
    },
    {
      "cell_type": "code",
      "source": [
        "data['gender'].replace({'Female':1,'Male':0},inplace=True)\n",
        "data['gender'].unique()"
      ],
      "metadata": {
        "colab": {
          "base_uri": "https://localhost:8080/"
        },
        "id": "iLp2lE2oHZzD",
        "outputId": "2ea32d89-4590-4b41-86ca-2db1c5718472"
      },
      "execution_count": null,
      "outputs": [
        {
          "output_type": "execute_result",
          "data": {
            "text/plain": [
              "array([1, 0])"
            ]
          },
          "metadata": {},
          "execution_count": 27
        }
      ]
    },
    {
      "cell_type": "code",
      "source": [
        "multi_object_columns = [column for column in data if (data[column].dtypes==object and len(data[column].unique())>2)]"
      ],
      "metadata": {
        "id": "jfHU3AtoHw7l"
      },
      "execution_count": null,
      "outputs": []
    },
    {
      "cell_type": "code",
      "source": [
        "multi_object_columns"
      ],
      "metadata": {
        "colab": {
          "base_uri": "https://localhost:8080/"
        },
        "id": "IjjhqlmSIOLf",
        "outputId": "e90531c3-fd93-42a4-c0ed-dbd80d9cf4be"
      },
      "execution_count": null,
      "outputs": [
        {
          "output_type": "execute_result",
          "data": {
            "text/plain": [
              "['InternetService', 'Contract', 'PaymentMethod']"
            ]
          },
          "metadata": {},
          "execution_count": 29
        }
      ]
    },
    {
      "cell_type": "code",
      "source": [
        "data = pd.get_dummies(data=data,columns = multi_object_columns)"
      ],
      "metadata": {
        "id": "Ri5ygXShIVxt"
      },
      "execution_count": null,
      "outputs": []
    },
    {
      "cell_type": "code",
      "source": [
        "data.sample(4)"
      ],
      "metadata": {
        "colab": {
          "base_uri": "https://localhost:8080/",
          "height": 259
        },
        "id": "lDA3ttlVImv4",
        "outputId": "f6230ff8-8ef6-45e9-d6c9-0cbd1717fc34"
      },
      "execution_count": null,
      "outputs": [
        {
          "output_type": "execute_result",
          "data": {
            "text/plain": [
              "      gender  SeniorCitizen  Partner  Dependents  tenure  PhoneService  \\\n",
              "6514       0              0        1           0      72             0   \n",
              "756        0              0        0           0      66             1   \n",
              "2539       1              0        1           1      65             1   \n",
              "432        0              0        0           0       2             1   \n",
              "\n",
              "      MultipleLines  OnlineSecurity  OnlineBackup  DeviceProtection  ...  \\\n",
              "6514              0               1             1                 1  ...   \n",
              "756               0               0             0                 0  ...   \n",
              "2539              1               0             0                 0  ...   \n",
              "432               0               1             0                 1  ...   \n",
              "\n",
              "      InternetService_DSL  InternetService_Fiber optic  InternetService_No  \\\n",
              "6514                    1                            0                   0   \n",
              "756                     0                            0                   1   \n",
              "2539                    0                            0                   1   \n",
              "432                     1                            0                   0   \n",
              "\n",
              "      Contract_Month-to-month  Contract_One year  Contract_Two year  \\\n",
              "6514                        0                  0                  1   \n",
              "756                         0                  0                  1   \n",
              "2539                        0                  0                  1   \n",
              "432                         1                  0                  0   \n",
              "\n",
              "      PaymentMethod_Bank transfer (automatic)  \\\n",
              "6514                                        0   \n",
              "756                                         1   \n",
              "2539                                        0   \n",
              "432                                         0   \n",
              "\n",
              "      PaymentMethod_Credit card (automatic)  PaymentMethod_Electronic check  \\\n",
              "6514                                      0                               1   \n",
              "756                                       0                               0   \n",
              "2539                                      1                               0   \n",
              "432                                       0                               1   \n",
              "\n",
              "      PaymentMethod_Mailed check  \n",
              "6514                           0  \n",
              "756                            0  \n",
              "2539                           0  \n",
              "432                            0  \n",
              "\n",
              "[4 rows x 27 columns]"
            ],
            "text/html": [
              "\n",
              "  <div id=\"df-b6ff9b05-ab7a-44c1-8abb-c4b6dce99f14\" class=\"colab-df-container\">\n",
              "    <div>\n",
              "<style scoped>\n",
              "    .dataframe tbody tr th:only-of-type {\n",
              "        vertical-align: middle;\n",
              "    }\n",
              "\n",
              "    .dataframe tbody tr th {\n",
              "        vertical-align: top;\n",
              "    }\n",
              "\n",
              "    .dataframe thead th {\n",
              "        text-align: right;\n",
              "    }\n",
              "</style>\n",
              "<table border=\"1\" class=\"dataframe\">\n",
              "  <thead>\n",
              "    <tr style=\"text-align: right;\">\n",
              "      <th></th>\n",
              "      <th>gender</th>\n",
              "      <th>SeniorCitizen</th>\n",
              "      <th>Partner</th>\n",
              "      <th>Dependents</th>\n",
              "      <th>tenure</th>\n",
              "      <th>PhoneService</th>\n",
              "      <th>MultipleLines</th>\n",
              "      <th>OnlineSecurity</th>\n",
              "      <th>OnlineBackup</th>\n",
              "      <th>DeviceProtection</th>\n",
              "      <th>...</th>\n",
              "      <th>InternetService_DSL</th>\n",
              "      <th>InternetService_Fiber optic</th>\n",
              "      <th>InternetService_No</th>\n",
              "      <th>Contract_Month-to-month</th>\n",
              "      <th>Contract_One year</th>\n",
              "      <th>Contract_Two year</th>\n",
              "      <th>PaymentMethod_Bank transfer (automatic)</th>\n",
              "      <th>PaymentMethod_Credit card (automatic)</th>\n",
              "      <th>PaymentMethod_Electronic check</th>\n",
              "      <th>PaymentMethod_Mailed check</th>\n",
              "    </tr>\n",
              "  </thead>\n",
              "  <tbody>\n",
              "    <tr>\n",
              "      <th>6514</th>\n",
              "      <td>0</td>\n",
              "      <td>0</td>\n",
              "      <td>1</td>\n",
              "      <td>0</td>\n",
              "      <td>72</td>\n",
              "      <td>0</td>\n",
              "      <td>0</td>\n",
              "      <td>1</td>\n",
              "      <td>1</td>\n",
              "      <td>1</td>\n",
              "      <td>...</td>\n",
              "      <td>1</td>\n",
              "      <td>0</td>\n",
              "      <td>0</td>\n",
              "      <td>0</td>\n",
              "      <td>0</td>\n",
              "      <td>1</td>\n",
              "      <td>0</td>\n",
              "      <td>0</td>\n",
              "      <td>1</td>\n",
              "      <td>0</td>\n",
              "    </tr>\n",
              "    <tr>\n",
              "      <th>756</th>\n",
              "      <td>0</td>\n",
              "      <td>0</td>\n",
              "      <td>0</td>\n",
              "      <td>0</td>\n",
              "      <td>66</td>\n",
              "      <td>1</td>\n",
              "      <td>0</td>\n",
              "      <td>0</td>\n",
              "      <td>0</td>\n",
              "      <td>0</td>\n",
              "      <td>...</td>\n",
              "      <td>0</td>\n",
              "      <td>0</td>\n",
              "      <td>1</td>\n",
              "      <td>0</td>\n",
              "      <td>0</td>\n",
              "      <td>1</td>\n",
              "      <td>1</td>\n",
              "      <td>0</td>\n",
              "      <td>0</td>\n",
              "      <td>0</td>\n",
              "    </tr>\n",
              "    <tr>\n",
              "      <th>2539</th>\n",
              "      <td>1</td>\n",
              "      <td>0</td>\n",
              "      <td>1</td>\n",
              "      <td>1</td>\n",
              "      <td>65</td>\n",
              "      <td>1</td>\n",
              "      <td>1</td>\n",
              "      <td>0</td>\n",
              "      <td>0</td>\n",
              "      <td>0</td>\n",
              "      <td>...</td>\n",
              "      <td>0</td>\n",
              "      <td>0</td>\n",
              "      <td>1</td>\n",
              "      <td>0</td>\n",
              "      <td>0</td>\n",
              "      <td>1</td>\n",
              "      <td>0</td>\n",
              "      <td>1</td>\n",
              "      <td>0</td>\n",
              "      <td>0</td>\n",
              "    </tr>\n",
              "    <tr>\n",
              "      <th>432</th>\n",
              "      <td>0</td>\n",
              "      <td>0</td>\n",
              "      <td>0</td>\n",
              "      <td>0</td>\n",
              "      <td>2</td>\n",
              "      <td>1</td>\n",
              "      <td>0</td>\n",
              "      <td>1</td>\n",
              "      <td>0</td>\n",
              "      <td>1</td>\n",
              "      <td>...</td>\n",
              "      <td>1</td>\n",
              "      <td>0</td>\n",
              "      <td>0</td>\n",
              "      <td>1</td>\n",
              "      <td>0</td>\n",
              "      <td>0</td>\n",
              "      <td>0</td>\n",
              "      <td>0</td>\n",
              "      <td>1</td>\n",
              "      <td>0</td>\n",
              "    </tr>\n",
              "  </tbody>\n",
              "</table>\n",
              "<p>4 rows × 27 columns</p>\n",
              "</div>\n",
              "    <div class=\"colab-df-buttons\">\n",
              "\n",
              "  <div class=\"colab-df-container\">\n",
              "    <button class=\"colab-df-convert\" onclick=\"convertToInteractive('df-b6ff9b05-ab7a-44c1-8abb-c4b6dce99f14')\"\n",
              "            title=\"Convert this dataframe to an interactive table.\"\n",
              "            style=\"display:none;\">\n",
              "\n",
              "  <svg xmlns=\"http://www.w3.org/2000/svg\" height=\"24px\" viewBox=\"0 -960 960 960\">\n",
              "    <path d=\"M120-120v-720h720v720H120Zm60-500h600v-160H180v160Zm220 220h160v-160H400v160Zm0 220h160v-160H400v160ZM180-400h160v-160H180v160Zm440 0h160v-160H620v160ZM180-180h160v-160H180v160Zm440 0h160v-160H620v160Z\"/>\n",
              "  </svg>\n",
              "    </button>\n",
              "\n",
              "  <style>\n",
              "    .colab-df-container {\n",
              "      display:flex;\n",
              "      gap: 12px;\n",
              "    }\n",
              "\n",
              "    .colab-df-convert {\n",
              "      background-color: #E8F0FE;\n",
              "      border: none;\n",
              "      border-radius: 50%;\n",
              "      cursor: pointer;\n",
              "      display: none;\n",
              "      fill: #1967D2;\n",
              "      height: 32px;\n",
              "      padding: 0 0 0 0;\n",
              "      width: 32px;\n",
              "    }\n",
              "\n",
              "    .colab-df-convert:hover {\n",
              "      background-color: #E2EBFA;\n",
              "      box-shadow: 0px 1px 2px rgba(60, 64, 67, 0.3), 0px 1px 3px 1px rgba(60, 64, 67, 0.15);\n",
              "      fill: #174EA6;\n",
              "    }\n",
              "\n",
              "    .colab-df-buttons div {\n",
              "      margin-bottom: 4px;\n",
              "    }\n",
              "\n",
              "    [theme=dark] .colab-df-convert {\n",
              "      background-color: #3B4455;\n",
              "      fill: #D2E3FC;\n",
              "    }\n",
              "\n",
              "    [theme=dark] .colab-df-convert:hover {\n",
              "      background-color: #434B5C;\n",
              "      box-shadow: 0px 1px 3px 1px rgba(0, 0, 0, 0.15);\n",
              "      filter: drop-shadow(0px 1px 2px rgba(0, 0, 0, 0.3));\n",
              "      fill: #FFFFFF;\n",
              "    }\n",
              "  </style>\n",
              "\n",
              "    <script>\n",
              "      const buttonEl =\n",
              "        document.querySelector('#df-b6ff9b05-ab7a-44c1-8abb-c4b6dce99f14 button.colab-df-convert');\n",
              "      buttonEl.style.display =\n",
              "        google.colab.kernel.accessAllowed ? 'block' : 'none';\n",
              "\n",
              "      async function convertToInteractive(key) {\n",
              "        const element = document.querySelector('#df-b6ff9b05-ab7a-44c1-8abb-c4b6dce99f14');\n",
              "        const dataTable =\n",
              "          await google.colab.kernel.invokeFunction('convertToInteractive',\n",
              "                                                    [key], {});\n",
              "        if (!dataTable) return;\n",
              "\n",
              "        const docLinkHtml = 'Like what you see? Visit the ' +\n",
              "          '<a target=\"_blank\" href=https://colab.research.google.com/notebooks/data_table.ipynb>data table notebook</a>'\n",
              "          + ' to learn more about interactive tables.';\n",
              "        element.innerHTML = '';\n",
              "        dataTable['output_type'] = 'display_data';\n",
              "        await google.colab.output.renderOutput(dataTable, element);\n",
              "        const docLink = document.createElement('div');\n",
              "        docLink.innerHTML = docLinkHtml;\n",
              "        element.appendChild(docLink);\n",
              "      }\n",
              "    </script>\n",
              "  </div>\n",
              "\n",
              "\n",
              "<div id=\"df-0835159b-c5bd-4bc3-96b9-e1fe504e4dad\">\n",
              "  <button class=\"colab-df-quickchart\" onclick=\"quickchart('df-0835159b-c5bd-4bc3-96b9-e1fe504e4dad')\"\n",
              "            title=\"Suggest charts\"\n",
              "            style=\"display:none;\">\n",
              "\n",
              "<svg xmlns=\"http://www.w3.org/2000/svg\" height=\"24px\"viewBox=\"0 0 24 24\"\n",
              "     width=\"24px\">\n",
              "    <g>\n",
              "        <path d=\"M19 3H5c-1.1 0-2 .9-2 2v14c0 1.1.9 2 2 2h14c1.1 0 2-.9 2-2V5c0-1.1-.9-2-2-2zM9 17H7v-7h2v7zm4 0h-2V7h2v10zm4 0h-2v-4h2v4z\"/>\n",
              "    </g>\n",
              "</svg>\n",
              "  </button>\n",
              "\n",
              "<style>\n",
              "  .colab-df-quickchart {\n",
              "      --bg-color: #E8F0FE;\n",
              "      --fill-color: #1967D2;\n",
              "      --hover-bg-color: #E2EBFA;\n",
              "      --hover-fill-color: #174EA6;\n",
              "      --disabled-fill-color: #AAA;\n",
              "      --disabled-bg-color: #DDD;\n",
              "  }\n",
              "\n",
              "  [theme=dark] .colab-df-quickchart {\n",
              "      --bg-color: #3B4455;\n",
              "      --fill-color: #D2E3FC;\n",
              "      --hover-bg-color: #434B5C;\n",
              "      --hover-fill-color: #FFFFFF;\n",
              "      --disabled-bg-color: #3B4455;\n",
              "      --disabled-fill-color: #666;\n",
              "  }\n",
              "\n",
              "  .colab-df-quickchart {\n",
              "    background-color: var(--bg-color);\n",
              "    border: none;\n",
              "    border-radius: 50%;\n",
              "    cursor: pointer;\n",
              "    display: none;\n",
              "    fill: var(--fill-color);\n",
              "    height: 32px;\n",
              "    padding: 0;\n",
              "    width: 32px;\n",
              "  }\n",
              "\n",
              "  .colab-df-quickchart:hover {\n",
              "    background-color: var(--hover-bg-color);\n",
              "    box-shadow: 0 1px 2px rgba(60, 64, 67, 0.3), 0 1px 3px 1px rgba(60, 64, 67, 0.15);\n",
              "    fill: var(--button-hover-fill-color);\n",
              "  }\n",
              "\n",
              "  .colab-df-quickchart-complete:disabled,\n",
              "  .colab-df-quickchart-complete:disabled:hover {\n",
              "    background-color: var(--disabled-bg-color);\n",
              "    fill: var(--disabled-fill-color);\n",
              "    box-shadow: none;\n",
              "  }\n",
              "\n",
              "  .colab-df-spinner {\n",
              "    border: 2px solid var(--fill-color);\n",
              "    border-color: transparent;\n",
              "    border-bottom-color: var(--fill-color);\n",
              "    animation:\n",
              "      spin 1s steps(1) infinite;\n",
              "  }\n",
              "\n",
              "  @keyframes spin {\n",
              "    0% {\n",
              "      border-color: transparent;\n",
              "      border-bottom-color: var(--fill-color);\n",
              "      border-left-color: var(--fill-color);\n",
              "    }\n",
              "    20% {\n",
              "      border-color: transparent;\n",
              "      border-left-color: var(--fill-color);\n",
              "      border-top-color: var(--fill-color);\n",
              "    }\n",
              "    30% {\n",
              "      border-color: transparent;\n",
              "      border-left-color: var(--fill-color);\n",
              "      border-top-color: var(--fill-color);\n",
              "      border-right-color: var(--fill-color);\n",
              "    }\n",
              "    40% {\n",
              "      border-color: transparent;\n",
              "      border-right-color: var(--fill-color);\n",
              "      border-top-color: var(--fill-color);\n",
              "    }\n",
              "    60% {\n",
              "      border-color: transparent;\n",
              "      border-right-color: var(--fill-color);\n",
              "    }\n",
              "    80% {\n",
              "      border-color: transparent;\n",
              "      border-right-color: var(--fill-color);\n",
              "      border-bottom-color: var(--fill-color);\n",
              "    }\n",
              "    90% {\n",
              "      border-color: transparent;\n",
              "      border-bottom-color: var(--fill-color);\n",
              "    }\n",
              "  }\n",
              "</style>\n",
              "\n",
              "  <script>\n",
              "    async function quickchart(key) {\n",
              "      const quickchartButtonEl =\n",
              "        document.querySelector('#' + key + ' button');\n",
              "      quickchartButtonEl.disabled = true;  // To prevent multiple clicks.\n",
              "      quickchartButtonEl.classList.add('colab-df-spinner');\n",
              "      try {\n",
              "        const charts = await google.colab.kernel.invokeFunction(\n",
              "            'suggestCharts', [key], {});\n",
              "      } catch (error) {\n",
              "        console.error('Error during call to suggestCharts:', error);\n",
              "      }\n",
              "      quickchartButtonEl.classList.remove('colab-df-spinner');\n",
              "      quickchartButtonEl.classList.add('colab-df-quickchart-complete');\n",
              "    }\n",
              "    (() => {\n",
              "      let quickchartButtonEl =\n",
              "        document.querySelector('#df-0835159b-c5bd-4bc3-96b9-e1fe504e4dad button');\n",
              "      quickchartButtonEl.style.display =\n",
              "        google.colab.kernel.accessAllowed ? 'block' : 'none';\n",
              "    })();\n",
              "  </script>\n",
              "</div>\n",
              "    </div>\n",
              "  </div>\n"
            ]
          },
          "metadata": {},
          "execution_count": 31
        }
      ]
    },
    {
      "cell_type": "code",
      "source": [
        "float_int_columns = multi_object_columns = [column for column in data if (data[column].dtypes==float or data[column].dtypes==int) and len(data[column].unique())>2]"
      ],
      "metadata": {
        "id": "P6QIs6n0KGLR"
      },
      "execution_count": null,
      "outputs": []
    },
    {
      "cell_type": "code",
      "source": [
        "float_int_columns"
      ],
      "metadata": {
        "colab": {
          "base_uri": "https://localhost:8080/"
        },
        "id": "MOgDxLMeKRcY",
        "outputId": "9c8d5b07-e1d3-42ee-947f-ac10c0d70302"
      },
      "execution_count": null,
      "outputs": [
        {
          "output_type": "execute_result",
          "data": {
            "text/plain": [
              "['tenure', 'MonthlyCharges', 'TotalCharges']"
            ]
          },
          "metadata": {},
          "execution_count": 33
        }
      ]
    },
    {
      "cell_type": "code",
      "source": [
        "from sklearn.preprocessing import MinMaxScaler\n",
        "\n",
        "scaler = MinMaxScaler()\n",
        "\n",
        "data[float_int_columns] = scaler.fit_transform(data[float_int_columns])"
      ],
      "metadata": {
        "id": "5y94nxWUKqF3"
      },
      "execution_count": null,
      "outputs": []
    },
    {
      "cell_type": "code",
      "source": [
        "for column in data:\n",
        "  print(f\"{column}={data[column].unique()}\")\n"
      ],
      "metadata": {
        "colab": {
          "base_uri": "https://localhost:8080/"
        },
        "id": "O3XWtbJlLinT",
        "outputId": "1653bdf5-239e-4f78-b668-fecc47f19b4f"
      },
      "execution_count": null,
      "outputs": [
        {
          "output_type": "stream",
          "name": "stdout",
          "text": [
            "gender=[1 0]\n",
            "SeniorCitizen=[0 1]\n",
            "Partner=[1 0]\n",
            "Dependents=[0 1]\n",
            "tenure=[0.         0.46478873 0.01408451 0.61971831 0.09859155 0.29577465\n",
            " 0.12676056 0.38028169 0.85915493 0.16901408 0.21126761 0.8028169\n",
            " 0.67605634 0.33802817 0.95774648 0.71830986 0.98591549 0.28169014\n",
            " 0.15492958 0.4084507  0.64788732 1.         0.22535211 0.36619718\n",
            " 0.05633803 0.63380282 0.14084507 0.97183099 0.87323944 0.5915493\n",
            " 0.1971831  0.83098592 0.23943662 0.91549296 0.11267606 0.02816901\n",
            " 0.42253521 0.69014085 0.88732394 0.77464789 0.08450704 0.57746479\n",
            " 0.47887324 0.66197183 0.3943662  0.90140845 0.52112676 0.94366197\n",
            " 0.43661972 0.76056338 0.50704225 0.49295775 0.56338028 0.07042254\n",
            " 0.04225352 0.45070423 0.92957746 0.30985915 0.78873239 0.84507042\n",
            " 0.18309859 0.26760563 0.73239437 0.54929577 0.81690141 0.32394366\n",
            " 0.6056338  0.25352113 0.74647887 0.70422535 0.35211268 0.53521127]\n",
            "PhoneService=[0 1]\n",
            "MultipleLines=[0 1]\n",
            "OnlineSecurity=[0 1]\n",
            "OnlineBackup=[1 0]\n",
            "DeviceProtection=[0 1]\n",
            "TechSupport=[0 1]\n",
            "StreamingTV=[0 1]\n",
            "StreamingMovies=[0 1]\n",
            "PaperlessBilling=[1 0]\n",
            "MonthlyCharges=[0.11542289 0.38507463 0.35422886 ... 0.44626866 0.25820896 0.60149254]\n",
            "TotalCharges=[0.0012751  0.21586661 0.01031041 ... 0.03780868 0.03321025 0.78764136]\n",
            "Churn=[0 1]\n",
            "InternetService_DSL=[1 0]\n",
            "InternetService_Fiber optic=[0 1]\n",
            "InternetService_No=[0 1]\n",
            "Contract_Month-to-month=[1 0]\n",
            "Contract_One year=[0 1]\n",
            "Contract_Two year=[0 1]\n",
            "PaymentMethod_Bank transfer (automatic)=[0 1]\n",
            "PaymentMethod_Credit card (automatic)=[0 1]\n",
            "PaymentMethod_Electronic check=[1 0]\n",
            "PaymentMethod_Mailed check=[0 1]\n"
          ]
        }
      ]
    },
    {
      "cell_type": "code",
      "source": [
        "x = data.drop('Churn',axis='columns')\n",
        "y = data['Churn']"
      ],
      "metadata": {
        "id": "dL_w2k6pLuJq"
      },
      "execution_count": null,
      "outputs": []
    },
    {
      "cell_type": "code",
      "source": [
        "from sklearn.model_selection import train_test_split\n",
        "x_train,x_test,y_train,y_test = train_test_split(x,y,test_size=0.2,random_state=5)"
      ],
      "metadata": {
        "id": "0H1LjvhdMAlB"
      },
      "execution_count": null,
      "outputs": []
    },
    {
      "cell_type": "markdown",
      "source": [
        "##**Making the Neural Network**"
      ],
      "metadata": {
        "id": "vLGJDlUq9vTX"
      }
    },
    {
      "cell_type": "code",
      "source": [
        "import tensorflow as tf\n",
        "from tensorflow import keras\n",
        "\n",
        "model = keras.Sequential([\n",
        "    keras.layers.Dense(50,input_shape=(26,),activation='relu'),\n",
        "    keras.layers.Dropout(0.5),\n",
        "    keras.layers.Dense(100,activation='relu'),\n",
        "    keras.layers.Dropout(0.5),\n",
        "    keras.layers.Dense(200,activation='relu'),\n",
        "    keras.layers.Dropout(0.5),\n",
        "    keras.layers.Dense(1,activation='sigmoid')\n",
        "\n",
        "])\n",
        "\n",
        "model.compile(\n",
        "    optimizer = 'adam',\n",
        "    loss  = 'binary_crossentropy',\n",
        "    metrics=['accuracy']\n",
        ")\n",
        "\n",
        "model.fit(x_train,y_train,epochs=100)"
      ],
      "metadata": {
        "colab": {
          "base_uri": "https://localhost:8080/"
        },
        "id": "bawPXFRpNApU",
        "outputId": "01084b2e-3e43-49a3-b2b4-cea75c5349a7"
      },
      "execution_count": null,
      "outputs": [
        {
          "output_type": "stream",
          "name": "stdout",
          "text": [
            "Epoch 1/100\n",
            "176/176 [==============================] - 9s 6ms/step - loss: 0.5192 - accuracy: 0.7351\n",
            "Epoch 2/100\n",
            "176/176 [==============================] - 1s 6ms/step - loss: 0.4577 - accuracy: 0.7716\n",
            "Epoch 3/100\n",
            "176/176 [==============================] - 1s 4ms/step - loss: 0.4487 - accuracy: 0.7865\n",
            "Epoch 4/100\n",
            "176/176 [==============================] - 1s 4ms/step - loss: 0.4467 - accuracy: 0.7844\n",
            "Epoch 5/100\n",
            "176/176 [==============================] - 1s 4ms/step - loss: 0.4373 - accuracy: 0.7918\n",
            "Epoch 6/100\n",
            "176/176 [==============================] - 1s 4ms/step - loss: 0.4364 - accuracy: 0.7970\n",
            "Epoch 7/100\n",
            "176/176 [==============================] - 1s 4ms/step - loss: 0.4281 - accuracy: 0.7988\n",
            "Epoch 8/100\n",
            "176/176 [==============================] - 1s 4ms/step - loss: 0.4316 - accuracy: 0.7924\n",
            "Epoch 9/100\n",
            "176/176 [==============================] - 1s 4ms/step - loss: 0.4238 - accuracy: 0.8032\n",
            "Epoch 10/100\n",
            "176/176 [==============================] - 1s 4ms/step - loss: 0.4260 - accuracy: 0.7998\n",
            "Epoch 11/100\n",
            "176/176 [==============================] - 1s 4ms/step - loss: 0.4262 - accuracy: 0.8023\n",
            "Epoch 12/100\n",
            "176/176 [==============================] - 1s 4ms/step - loss: 0.4228 - accuracy: 0.8044\n",
            "Epoch 13/100\n",
            "176/176 [==============================] - 1s 4ms/step - loss: 0.4200 - accuracy: 0.8034\n",
            "Epoch 14/100\n",
            "176/176 [==============================] - 1s 4ms/step - loss: 0.4195 - accuracy: 0.8014\n",
            "Epoch 15/100\n",
            "176/176 [==============================] - 1s 5ms/step - loss: 0.4170 - accuracy: 0.8011\n",
            "Epoch 16/100\n",
            "176/176 [==============================] - 1s 6ms/step - loss: 0.4167 - accuracy: 0.8018\n",
            "Epoch 17/100\n",
            "176/176 [==============================] - 1s 6ms/step - loss: 0.4146 - accuracy: 0.8041\n",
            "Epoch 18/100\n",
            "176/176 [==============================] - 1s 6ms/step - loss: 0.4142 - accuracy: 0.8114\n",
            "Epoch 19/100\n",
            "176/176 [==============================] - 1s 5ms/step - loss: 0.4139 - accuracy: 0.8096\n",
            "Epoch 20/100\n",
            "176/176 [==============================] - 1s 4ms/step - loss: 0.4085 - accuracy: 0.8096\n",
            "Epoch 21/100\n",
            "176/176 [==============================] - 1s 4ms/step - loss: 0.4113 - accuracy: 0.8121\n",
            "Epoch 22/100\n",
            "176/176 [==============================] - 1s 4ms/step - loss: 0.4100 - accuracy: 0.8123\n",
            "Epoch 23/100\n",
            "176/176 [==============================] - 1s 4ms/step - loss: 0.4083 - accuracy: 0.8130\n",
            "Epoch 24/100\n",
            "176/176 [==============================] - 1s 4ms/step - loss: 0.4104 - accuracy: 0.8094\n",
            "Epoch 25/100\n",
            "176/176 [==============================] - 1s 4ms/step - loss: 0.4061 - accuracy: 0.8089\n",
            "Epoch 26/100\n",
            "176/176 [==============================] - 1s 4ms/step - loss: 0.4068 - accuracy: 0.8108\n",
            "Epoch 27/100\n",
            "176/176 [==============================] - 1s 4ms/step - loss: 0.4060 - accuracy: 0.8156\n",
            "Epoch 28/100\n",
            "176/176 [==============================] - 1s 4ms/step - loss: 0.4004 - accuracy: 0.8142\n",
            "Epoch 29/100\n",
            "176/176 [==============================] - 1s 4ms/step - loss: 0.4106 - accuracy: 0.8108\n",
            "Epoch 30/100\n",
            "176/176 [==============================] - 1s 4ms/step - loss: 0.4056 - accuracy: 0.8105\n",
            "Epoch 31/100\n",
            "176/176 [==============================] - 1s 4ms/step - loss: 0.4018 - accuracy: 0.8165\n",
            "Epoch 32/100\n",
            "176/176 [==============================] - 1s 4ms/step - loss: 0.4051 - accuracy: 0.8117\n",
            "Epoch 33/100\n",
            "176/176 [==============================] - 1s 6ms/step - loss: 0.3985 - accuracy: 0.8165\n",
            "Epoch 34/100\n",
            "176/176 [==============================] - 1s 6ms/step - loss: 0.4028 - accuracy: 0.8130\n",
            "Epoch 35/100\n",
            "176/176 [==============================] - 1s 6ms/step - loss: 0.4014 - accuracy: 0.8144\n",
            "Epoch 36/100\n",
            "176/176 [==============================] - 1s 6ms/step - loss: 0.3988 - accuracy: 0.8172\n",
            "Epoch 37/100\n",
            "176/176 [==============================] - 1s 4ms/step - loss: 0.4036 - accuracy: 0.8151\n",
            "Epoch 38/100\n",
            "176/176 [==============================] - 1s 4ms/step - loss: 0.4043 - accuracy: 0.8180\n",
            "Epoch 39/100\n",
            "176/176 [==============================] - 1s 4ms/step - loss: 0.4001 - accuracy: 0.8197\n",
            "Epoch 40/100\n",
            "176/176 [==============================] - 1s 4ms/step - loss: 0.3962 - accuracy: 0.8197\n",
            "Epoch 41/100\n",
            "176/176 [==============================] - 1s 4ms/step - loss: 0.4023 - accuracy: 0.8167\n",
            "Epoch 42/100\n",
            "176/176 [==============================] - 1s 4ms/step - loss: 0.3964 - accuracy: 0.8185\n",
            "Epoch 43/100\n",
            "176/176 [==============================] - 1s 5ms/step - loss: 0.3970 - accuracy: 0.8180\n",
            "Epoch 44/100\n",
            "176/176 [==============================] - 1s 4ms/step - loss: 0.3997 - accuracy: 0.8183\n",
            "Epoch 45/100\n",
            "176/176 [==============================] - 1s 4ms/step - loss: 0.3986 - accuracy: 0.8169\n",
            "Epoch 46/100\n",
            "176/176 [==============================] - 1s 5ms/step - loss: 0.4002 - accuracy: 0.8171\n",
            "Epoch 47/100\n",
            "176/176 [==============================] - 1s 5ms/step - loss: 0.3929 - accuracy: 0.8190\n",
            "Epoch 48/100\n",
            "176/176 [==============================] - 1s 5ms/step - loss: 0.3973 - accuracy: 0.8181\n",
            "Epoch 49/100\n",
            "176/176 [==============================] - 1s 5ms/step - loss: 0.4031 - accuracy: 0.8156\n",
            "Epoch 50/100\n",
            "176/176 [==============================] - 1s 6ms/step - loss: 0.3962 - accuracy: 0.8158\n",
            "Epoch 51/100\n",
            "176/176 [==============================] - 1s 6ms/step - loss: 0.3971 - accuracy: 0.8180\n",
            "Epoch 52/100\n",
            "176/176 [==============================] - 1s 6ms/step - loss: 0.3898 - accuracy: 0.8228\n",
            "Epoch 53/100\n",
            "176/176 [==============================] - 1s 5ms/step - loss: 0.3967 - accuracy: 0.8183\n",
            "Epoch 54/100\n",
            "176/176 [==============================] - 1s 4ms/step - loss: 0.3979 - accuracy: 0.8174\n",
            "Epoch 55/100\n",
            "176/176 [==============================] - 1s 4ms/step - loss: 0.3931 - accuracy: 0.8178\n",
            "Epoch 56/100\n",
            "176/176 [==============================] - 1s 4ms/step - loss: 0.4001 - accuracy: 0.8181\n",
            "Epoch 57/100\n",
            "176/176 [==============================] - 1s 4ms/step - loss: 0.3938 - accuracy: 0.8222\n",
            "Epoch 58/100\n",
            "176/176 [==============================] - 1s 4ms/step - loss: 0.3968 - accuracy: 0.8199\n",
            "Epoch 59/100\n",
            "176/176 [==============================] - 1s 4ms/step - loss: 0.3919 - accuracy: 0.8233\n",
            "Epoch 60/100\n",
            "176/176 [==============================] - 1s 4ms/step - loss: 0.3966 - accuracy: 0.8197\n",
            "Epoch 61/100\n",
            "176/176 [==============================] - 1s 4ms/step - loss: 0.3980 - accuracy: 0.8171\n",
            "Epoch 62/100\n",
            "176/176 [==============================] - 1s 4ms/step - loss: 0.3970 - accuracy: 0.8212\n",
            "Epoch 63/100\n",
            "176/176 [==============================] - 1s 4ms/step - loss: 0.3889 - accuracy: 0.8210\n",
            "Epoch 64/100\n",
            "176/176 [==============================] - 1s 4ms/step - loss: 0.3904 - accuracy: 0.8196\n",
            "Epoch 65/100\n",
            "176/176 [==============================] - 1s 4ms/step - loss: 0.3895 - accuracy: 0.8197\n",
            "Epoch 66/100\n",
            "176/176 [==============================] - 1s 5ms/step - loss: 0.3912 - accuracy: 0.8176\n",
            "Epoch 67/100\n",
            "176/176 [==============================] - 1s 6ms/step - loss: 0.3928 - accuracy: 0.8196\n",
            "Epoch 68/100\n",
            "176/176 [==============================] - 1s 6ms/step - loss: 0.3962 - accuracy: 0.8197\n",
            "Epoch 69/100\n",
            "176/176 [==============================] - 1s 6ms/step - loss: 0.3871 - accuracy: 0.8251\n",
            "Epoch 70/100\n",
            "176/176 [==============================] - 1s 4ms/step - loss: 0.3935 - accuracy: 0.8204\n",
            "Epoch 71/100\n",
            "176/176 [==============================] - 1s 4ms/step - loss: 0.3919 - accuracy: 0.8210\n",
            "Epoch 72/100\n",
            "176/176 [==============================] - 1s 4ms/step - loss: 0.3923 - accuracy: 0.8185\n",
            "Epoch 73/100\n",
            "176/176 [==============================] - 1s 4ms/step - loss: 0.3847 - accuracy: 0.8302\n",
            "Epoch 74/100\n",
            "176/176 [==============================] - 1s 4ms/step - loss: 0.3891 - accuracy: 0.8228\n",
            "Epoch 75/100\n",
            "176/176 [==============================] - 1s 4ms/step - loss: 0.3936 - accuracy: 0.8196\n",
            "Epoch 76/100\n",
            "176/176 [==============================] - 1s 4ms/step - loss: 0.3890 - accuracy: 0.8270\n",
            "Epoch 77/100\n",
            "176/176 [==============================] - 1s 4ms/step - loss: 0.3886 - accuracy: 0.8251\n",
            "Epoch 78/100\n",
            "176/176 [==============================] - 1s 4ms/step - loss: 0.3929 - accuracy: 0.8158\n",
            "Epoch 79/100\n",
            "176/176 [==============================] - 1s 5ms/step - loss: 0.3869 - accuracy: 0.8226\n",
            "Epoch 80/100\n",
            "176/176 [==============================] - 1s 4ms/step - loss: 0.3901 - accuracy: 0.8213\n",
            "Epoch 81/100\n",
            "176/176 [==============================] - 1s 4ms/step - loss: 0.3877 - accuracy: 0.8212\n",
            "Epoch 82/100\n",
            "176/176 [==============================] - 1s 4ms/step - loss: 0.3860 - accuracy: 0.8236\n",
            "Epoch 83/100\n",
            "176/176 [==============================] - 1s 5ms/step - loss: 0.3880 - accuracy: 0.8203\n",
            "Epoch 84/100\n",
            "176/176 [==============================] - 1s 6ms/step - loss: 0.3914 - accuracy: 0.8208\n",
            "Epoch 85/100\n",
            "176/176 [==============================] - 1s 6ms/step - loss: 0.3902 - accuracy: 0.8204\n",
            "Epoch 86/100\n",
            "176/176 [==============================] - 1s 6ms/step - loss: 0.3830 - accuracy: 0.8245\n",
            "Epoch 87/100\n",
            "176/176 [==============================] - 1s 5ms/step - loss: 0.3842 - accuracy: 0.8242\n",
            "Epoch 88/100\n",
            "176/176 [==============================] - 1s 4ms/step - loss: 0.3862 - accuracy: 0.8236\n",
            "Epoch 89/100\n",
            "176/176 [==============================] - 1s 4ms/step - loss: 0.3866 - accuracy: 0.8224\n",
            "Epoch 90/100\n",
            "176/176 [==============================] - 1s 4ms/step - loss: 0.3837 - accuracy: 0.8283\n",
            "Epoch 91/100\n",
            "176/176 [==============================] - 1s 4ms/step - loss: 0.3908 - accuracy: 0.8213\n",
            "Epoch 92/100\n",
            "176/176 [==============================] - 1s 4ms/step - loss: 0.3793 - accuracy: 0.8292\n",
            "Epoch 93/100\n",
            "176/176 [==============================] - 1s 4ms/step - loss: 0.3894 - accuracy: 0.8187\n",
            "Epoch 94/100\n",
            "176/176 [==============================] - 1s 4ms/step - loss: 0.3841 - accuracy: 0.8242\n",
            "Epoch 95/100\n",
            "176/176 [==============================] - 1s 4ms/step - loss: 0.3819 - accuracy: 0.8156\n",
            "Epoch 96/100\n",
            "176/176 [==============================] - 1s 4ms/step - loss: 0.3854 - accuracy: 0.8183\n",
            "Epoch 97/100\n",
            "176/176 [==============================] - 1s 4ms/step - loss: 0.3847 - accuracy: 0.8238\n",
            "Epoch 98/100\n",
            "176/176 [==============================] - 1s 4ms/step - loss: 0.3848 - accuracy: 0.8222\n",
            "Epoch 99/100\n",
            "176/176 [==============================] - 1s 4ms/step - loss: 0.3818 - accuracy: 0.8244\n",
            "Epoch 100/100\n",
            "176/176 [==============================] - 1s 4ms/step - loss: 0.3845 - accuracy: 0.8199\n"
          ]
        },
        {
          "output_type": "execute_result",
          "data": {
            "text/plain": [
              "<keras.src.callbacks.History at 0x7efb00a2cf70>"
            ]
          },
          "metadata": {},
          "execution_count": 38
        }
      ]
    },
    {
      "cell_type": "code",
      "source": [
        "model.evaluate(x_test,y_test)"
      ],
      "metadata": {
        "colab": {
          "base_uri": "https://localhost:8080/"
        },
        "id": "yMI3o7IDRm5s",
        "outputId": "15642946-64a8-4917-8782-7f169251a644"
      },
      "execution_count": null,
      "outputs": [
        {
          "output_type": "stream",
          "name": "stdout",
          "text": [
            "44/44 [==============================] - 0s 3ms/step - loss: 0.4490 - accuracy: 0.7875\n"
          ]
        },
        {
          "output_type": "execute_result",
          "data": {
            "text/plain": [
              "[0.44900253415107727, 0.7874911427497864]"
            ]
          },
          "metadata": {},
          "execution_count": 39
        }
      ]
    },
    {
      "cell_type": "code",
      "source": [
        "y_p = model.predict(x_test)\n"
      ],
      "metadata": {
        "colab": {
          "base_uri": "https://localhost:8080/"
        },
        "id": "iHAXOIQ_V3_3",
        "outputId": "cae328d4-41aa-469c-adfb-1485accef8a9"
      },
      "execution_count": null,
      "outputs": [
        {
          "output_type": "stream",
          "name": "stdout",
          "text": [
            "44/44 [==============================] - 0s 2ms/step\n"
          ]
        }
      ]
    },
    {
      "cell_type": "code",
      "source": [
        "y_pred= []\n",
        "\n",
        "for p in y_p:\n",
        "\n",
        "  if p >=0.5:\n",
        "    y_pred.append(1)\n",
        "  else:\n",
        "    y_pred.append(0)"
      ],
      "metadata": {
        "id": "z9lJkIq3V-H_"
      },
      "execution_count": null,
      "outputs": []
    },
    {
      "cell_type": "markdown",
      "source": [
        "##**Visually Ayalyzing The Prediction**\n"
      ],
      "metadata": {
        "id": "0sd3nlcc-l-j"
      }
    },
    {
      "cell_type": "code",
      "source": [
        "import seaborn as sn\n",
        "\n",
        "cm = tf.math.confusion_matrix(labels=y_test,predictions=y_pred)\n",
        "plt.figure(figsize=(10,7))\n",
        "sn.heatmap(cm,annot=True,fmt='d')\n",
        "plt.xlabel(\"Predicted\")\n",
        "plt.ylabel(\"Truth\")"
      ],
      "metadata": {
        "colab": {
          "base_uri": "https://localhost:8080/",
          "height": 636
        },
        "id": "fJfF9ysBWNYl",
        "outputId": "efc67cc1-63a4-47f9-c31d-3b430cb75a93"
      },
      "execution_count": null,
      "outputs": [
        {
          "output_type": "execute_result",
          "data": {
            "text/plain": [
              "Text(95.72222222222221, 0.5, 'Truth')"
            ]
          },
          "metadata": {},
          "execution_count": 42
        },
        {
          "output_type": "display_data",
          "data": {
            "text/plain": [
              "<Figure size 1000x700 with 2 Axes>"
            ],
            "image/png": "[encoded data removed]"
          },
          "metadata": {}
        }
      ]
    }
  ]
}